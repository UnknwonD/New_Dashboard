{
 "cells": [
  {
   "cell_type": "code",
   "execution_count": 22,
   "metadata": {},
   "outputs": [
    {
     "data": {
      "text/html": [
       "<div>\n",
       "<style scoped>\n",
       "    .dataframe tbody tr th:only-of-type {\n",
       "        vertical-align: middle;\n",
       "    }\n",
       "\n",
       "    .dataframe tbody tr th {\n",
       "        vertical-align: top;\n",
       "    }\n",
       "\n",
       "    .dataframe thead th {\n",
       "        text-align: right;\n",
       "    }\n",
       "</style>\n",
       "<table border=\"1\" class=\"dataframe\">\n",
       "  <thead>\n",
       "    <tr style=\"text-align: right;\">\n",
       "      <th></th>\n",
       "      <th>category</th>\n",
       "      <th>sub_category</th>\n",
       "      <th>title</th>\n",
       "      <th>content</th>\n",
       "      <th>publisher</th>\n",
       "      <th>date</th>\n",
       "    </tr>\n",
       "  </thead>\n",
       "  <tbody>\n",
       "    <tr>\n",
       "      <th>0</th>\n",
       "      <td>정치</td>\n",
       "      <td>대통령실</td>\n",
       "      <td>이재용·정의선, 경제사절단으로 내주 싱가포르 방문</td>\n",
       "      <td>한상용 김아람 기자 = 국내 일부 재계 총수들이 다음 주 윤석열 대통령의 싱가포르 ...</td>\n",
       "      <td>연합뉴스</td>\n",
       "      <td>2024-10-03 18:54</td>\n",
       "    </tr>\n",
       "    <tr>\n",
       "      <th>1</th>\n",
       "      <td>정치</td>\n",
       "      <td>대통령실</td>\n",
       "      <td>尹, 6~11일 동남아 3개국 순방…이시바 日총리와 회담 가능성</td>\n",
       "      <td>윤석열 대통령은 오는 6일부터 5박6일 일정으로 필리핀 싱가포르 라오스를 차례로 방...</td>\n",
       "      <td>한국경제</td>\n",
       "      <td>2024-10-03 18:21</td>\n",
       "    </tr>\n",
       "    <tr>\n",
       "      <th>2</th>\n",
       "      <td>정치</td>\n",
       "      <td>대통령실</td>\n",
       "      <td>尹대통령, 6~11일 동남아 순방... 이시바 日총리 첫대면 가능성</td>\n",
       "      <td>윤석열 대통령은 6~11일 필리핀과 싱가포르를 국빈방문하고, 아세안(ASEAN·동남...</td>\n",
       "      <td>파이낸셜뉴스</td>\n",
       "      <td>2024-10-03 18:21</td>\n",
       "    </tr>\n",
       "    <tr>\n",
       "      <th>3</th>\n",
       "      <td>정치</td>\n",
       "      <td>대통령실</td>\n",
       "      <td>尹, 동남아 3개국 순방…아세안+한중일 정상회의</td>\n",
       "      <td>5박 6일 일정으로 필리핀·싱가포르·라오스 방문 한-아세안 포괄적 전략동반자 관계 ...</td>\n",
       "      <td>더팩트</td>\n",
       "      <td>2024-10-03 18:21</td>\n",
       "    </tr>\n",
       "    <tr>\n",
       "      <th>4</th>\n",
       "      <td>정치</td>\n",
       "      <td>대통령실</td>\n",
       "      <td>[데일리안 오늘뉴스 종합] 용산 \"尹 부부, 김대남과 친분 없어\", 한동훈 \"김여사...</td>\n",
       "      <td>▲용산, '한동훈 공격 사주' 일축…\"尹 부부, 김대남과 친분 없어\" 김대남 전 대...</td>\n",
       "      <td>데일리안</td>\n",
       "      <td>2024-10-03 18:21</td>\n",
       "    </tr>\n",
       "  </tbody>\n",
       "</table>\n",
       "</div>"
      ],
      "text/plain": [
       "  category sub_category                                              title  \\\n",
       "0       정치         대통령실                        이재용·정의선, 경제사절단으로 내주 싱가포르 방문   \n",
       "1       정치         대통령실                尹, 6~11일 동남아 3개국 순방…이시바 日총리와 회담 가능성   \n",
       "2       정치         대통령실              尹대통령, 6~11일 동남아 순방... 이시바 日총리 첫대면 가능성   \n",
       "3       정치         대통령실                         尹, 동남아 3개국 순방…아세안+한중일 정상회의   \n",
       "4       정치         대통령실  [데일리안 오늘뉴스 종합] 용산 \"尹 부부, 김대남과 친분 없어\", 한동훈 \"김여사...   \n",
       "\n",
       "                                             content publisher  \\\n",
       "0  한상용 김아람 기자 = 국내 일부 재계 총수들이 다음 주 윤석열 대통령의 싱가포르 ...      연합뉴스   \n",
       "1  윤석열 대통령은 오는 6일부터 5박6일 일정으로 필리핀 싱가포르 라오스를 차례로 방...      한국경제   \n",
       "2  윤석열 대통령은 6~11일 필리핀과 싱가포르를 국빈방문하고, 아세안(ASEAN·동남...    파이낸셜뉴스   \n",
       "3  5박 6일 일정으로 필리핀·싱가포르·라오스 방문 한-아세안 포괄적 전략동반자 관계 ...       더팩트   \n",
       "4  ▲용산, '한동훈 공격 사주' 일축…\"尹 부부, 김대남과 친분 없어\" 김대남 전 대...      데일리안   \n",
       "\n",
       "               date  \n",
       "0  2024-10-03 18:54  \n",
       "1  2024-10-03 18:21  \n",
       "2  2024-10-03 18:21  \n",
       "3  2024-10-03 18:21  \n",
       "4  2024-10-03 18:21  "
      ]
     },
     "execution_count": 22,
     "metadata": {},
     "output_type": "execute_result"
    }
   ],
   "source": [
    "import pandas as pd\n",
    "\n",
    "df = pd.read_csv('../news_data.csv', encoding='utf-8-sig')\n",
    "df.head()"
   ]
  },
  {
   "cell_type": "code",
   "execution_count": 23,
   "metadata": {},
   "outputs": [],
   "source": [
    "from datetime import datetime\n",
    "\n",
    "for i, row in df.iterrows():\n",
    "    df.at[i, 'total'] = row['title'] + ' ' + str(row['content'])\n",
    "    \n",
    "    date = (datetime.strptime(row['date'], '%Y-%m-%d %H:%M'))\n",
    "    target = datetime.strftime(date, '%Y-%m-%d')\n",
    "    \n",
    "    month = date.month\n",
    "    day = date.day\n",
    "    \n",
    "    df.at[i, 'date_day'] = target\n",
    "    df.at[i, 'month'] = int(month)\n",
    "    df.at[i, 'day'] = int(day)"
   ]
  },
  {
   "cell_type": "code",
   "execution_count": 24,
   "metadata": {},
   "outputs": [
    {
     "name": "stdout",
     "output_type": "stream",
     "text": [
      "<class 'pandas.core.frame.DataFrame'>\n",
      "RangeIndex: 65259 entries, 0 to 65258\n",
      "Data columns (total 10 columns):\n",
      " #   Column        Non-Null Count  Dtype \n",
      "---  ------        --------------  ----- \n",
      " 0   category      65259 non-null  object\n",
      " 1   sub_category  65259 non-null  object\n",
      " 2   title         65259 non-null  object\n",
      " 3   content       65005 non-null  object\n",
      " 4   publisher     65259 non-null  object\n",
      " 5   date          65259 non-null  object\n",
      " 6   total         65259 non-null  object\n",
      " 7   date_day      65259 non-null  object\n",
      " 8   month         65259 non-null  int64 \n",
      " 9   day           65259 non-null  int64 \n",
      "dtypes: int64(2), object(8)\n",
      "memory usage: 5.0+ MB\n"
     ]
    }
   ],
   "source": [
    "df['month'] = df['month'].astype(int)\n",
    "df['day'] = df['day'].astype(int)\n",
    "\n",
    "df.info()"
   ]
  },
  {
   "cell_type": "code",
   "execution_count": 25,
   "metadata": {},
   "outputs": [],
   "source": [
    "new_df = df[['date_day', 'category', 'sub_category', 'total']].copy()"
   ]
  },
  {
   "cell_type": "code",
   "execution_count": 26,
   "metadata": {},
   "outputs": [
    {
     "data": {
      "text/plain": [
       "date_day\n",
       "2024-10-11    27359\n",
       "2024-10-09     7840\n",
       "2024-10-08     7139\n",
       "2024-10-10     4765\n",
       "2024-10-13     4543\n",
       "2024-10-12     4291\n",
       "2024-10-03     2999\n",
       "2024-10-07     2802\n",
       "2024-10-06     1522\n",
       "2024-10-02     1437\n",
       "2024-09-30      259\n",
       "2024-10-01      181\n",
       "2024-09-27       52\n",
       "2024-09-29       46\n",
       "2024-09-28       24\n",
       "Name: count, dtype: int64"
      ]
     },
     "execution_count": 26,
     "metadata": {},
     "output_type": "execute_result"
    }
   ],
   "source": [
    "new_df['date_day'].value_counts()"
   ]
  },
  {
   "cell_type": "code",
   "execution_count": 27,
   "metadata": {},
   "outputs": [],
   "source": [
    "replace_dict = {\n",
    "    '尹': '윤석열',\n",
    "    '文': '문재인',\n",
    "    '朴': '박근혜',\n",
    "    '李': '이명박',\n",
    "    '金': '김대중',\n",
    "    '盧': '노무현',\n",
    "    '全': '전두환',\n",
    "    '崔': '최규하',\n",
    "    '朴正熙': '박정희',\n",
    "    '日': '일본',\n",
    "    '美': '미국',\n",
    "    '中': '중국',\n",
    "    '韓': '한국',\n",
    "    '北': '북한',\n",
    "    '露': '러시아',\n",
    "    '英': '영국',\n",
    "    '獨': '독일',\n",
    "    '仏': '프랑스',\n",
    "    '豪': '호주',\n",
    "    '加': '캐나다',\n",
    "    '印': '인도',\n",
    "    '伊': '이탈리아',\n",
    "    '西': '스페인',\n",
    "    '瑞': '스위스',\n",
    "    '希': '그리스',\n",
    "    '越': '베트남',\n",
    "    '泰': '태국',\n",
    "    '菲': '필리핀',\n",
    "    '墨': '멕시코',\n",
    "    '智': '칠레',\n",
    "    '阿': '아르헨티나',\n",
    "    '埃': '이집트',\n",
    "    '土': '터키',\n",
    "    '蘇': '소련',\n",
    "    '芬': '핀란드',\n",
    "    '葡': '포르투갈',\n",
    "    '蘭': '네덜란드',\n",
    "    '洪': '헝가리'\n",
    "}"
   ]
  },
  {
   "cell_type": "code",
   "execution_count": 28,
   "metadata": {},
   "outputs": [],
   "source": [
    "def replace_hanja(text):\n",
    "    for hanja, korean in replace_dict.items():\n",
    "        text = text.replace(hanja, korean)\n",
    "    return text"
   ]
  },
  {
   "cell_type": "code",
   "execution_count": 29,
   "metadata": {},
   "outputs": [],
   "source": [
    "new_df['total'] = new_df['total'].apply(replace_hanja)"
   ]
  },
  {
   "cell_type": "code",
   "execution_count": 30,
   "metadata": {},
   "outputs": [],
   "source": [
    "new_df.to_csv('daylist.csv', encoding='utf-8-sig')"
   ]
  },
  {
   "cell_type": "code",
   "execution_count": 31,
   "metadata": {},
   "outputs": [
    {
     "data": {
      "text/html": [
       "<div>\n",
       "<style scoped>\n",
       "    .dataframe tbody tr th:only-of-type {\n",
       "        vertical-align: middle;\n",
       "    }\n",
       "\n",
       "    .dataframe tbody tr th {\n",
       "        vertical-align: top;\n",
       "    }\n",
       "\n",
       "    .dataframe thead th {\n",
       "        text-align: right;\n",
       "    }\n",
       "</style>\n",
       "<table border=\"1\" class=\"dataframe\">\n",
       "  <thead>\n",
       "    <tr style=\"text-align: right;\">\n",
       "      <th></th>\n",
       "      <th>date_day</th>\n",
       "      <th>category</th>\n",
       "      <th>sub_category</th>\n",
       "      <th>total</th>\n",
       "    </tr>\n",
       "  </thead>\n",
       "  <tbody>\n",
       "    <tr>\n",
       "      <th>0</th>\n",
       "      <td>2024-10-03</td>\n",
       "      <td>정치</td>\n",
       "      <td>대통령실</td>\n",
       "      <td>이재용·정의선, 경제사절단으로 내주 싱가포르 방문 한상용 김아람 기자 = 국내 일부...</td>\n",
       "    </tr>\n",
       "    <tr>\n",
       "      <th>1</th>\n",
       "      <td>2024-10-03</td>\n",
       "      <td>정치</td>\n",
       "      <td>대통령실</td>\n",
       "      <td>윤석열, 6~11일 동남아 3개국 순방…이시바 일본총리와 회담 가능성 윤석열 대통령...</td>\n",
       "    </tr>\n",
       "    <tr>\n",
       "      <th>2</th>\n",
       "      <td>2024-10-03</td>\n",
       "      <td>정치</td>\n",
       "      <td>대통령실</td>\n",
       "      <td>윤석열대통령, 6~11일 동남아 순방... 이시바 일본총리 첫대면 가능성 윤석열 대...</td>\n",
       "    </tr>\n",
       "    <tr>\n",
       "      <th>3</th>\n",
       "      <td>2024-10-03</td>\n",
       "      <td>정치</td>\n",
       "      <td>대통령실</td>\n",
       "      <td>윤석열, 동남아 3개국 순방…아세안+한중일 정상회의 5박 6일 일정으로 필리핀·싱가...</td>\n",
       "    </tr>\n",
       "    <tr>\n",
       "      <th>4</th>\n",
       "      <td>2024-10-03</td>\n",
       "      <td>정치</td>\n",
       "      <td>대통령실</td>\n",
       "      <td>[데일리안 오늘뉴스 종합] 용산 \"윤석열 부부, 김대남과 친분 없어\", 한동훈 \"김...</td>\n",
       "    </tr>\n",
       "  </tbody>\n",
       "</table>\n",
       "</div>"
      ],
      "text/plain": [
       "     date_day category sub_category  \\\n",
       "0  2024-10-03       정치         대통령실   \n",
       "1  2024-10-03       정치         대통령실   \n",
       "2  2024-10-03       정치         대통령실   \n",
       "3  2024-10-03       정치         대통령실   \n",
       "4  2024-10-03       정치         대통령실   \n",
       "\n",
       "                                               total  \n",
       "0  이재용·정의선, 경제사절단으로 내주 싱가포르 방문 한상용 김아람 기자 = 국내 일부...  \n",
       "1  윤석열, 6~11일 동남아 3개국 순방…이시바 일본총리와 회담 가능성 윤석열 대통령...  \n",
       "2  윤석열대통령, 6~11일 동남아 순방... 이시바 일본총리 첫대면 가능성 윤석열 대...  \n",
       "3  윤석열, 동남아 3개국 순방…아세안+한중일 정상회의 5박 6일 일정으로 필리핀·싱가...  \n",
       "4  [데일리안 오늘뉴스 종합] 용산 \"윤석열 부부, 김대남과 친분 없어\", 한동훈 \"김...  "
      ]
     },
     "execution_count": 31,
     "metadata": {},
     "output_type": "execute_result"
    }
   ],
   "source": [
    "new_df.head()"
   ]
  }
 ],
 "metadata": {
  "kernelspec": {
   "display_name": "toy",
   "language": "python",
   "name": "python3"
  },
  "language_info": {
   "codemirror_mode": {
    "name": "ipython",
    "version": 3
   },
   "file_extension": ".py",
   "mimetype": "text/x-python",
   "name": "python",
   "nbconvert_exporter": "python",
   "pygments_lexer": "ipython3",
   "version": "3.9.18"
  }
 },
 "nbformat": 4,
 "nbformat_minor": 2
}
