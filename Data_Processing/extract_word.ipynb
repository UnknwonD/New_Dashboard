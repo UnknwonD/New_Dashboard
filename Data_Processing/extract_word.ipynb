{
 "cells": [
  {
   "cell_type": "code",
   "execution_count": 20,
   "metadata": {},
   "outputs": [],
   "source": [
    "import pandas as pd\n",
    "\n",
    "df = pd.read_csv('daylist.csv', encoding='utf-8-sig')"
   ]
  },
  {
   "cell_type": "code",
   "execution_count": 21,
   "metadata": {},
   "outputs": [
    {
     "data": {
      "text/html": [
       "<div>\n",
       "<style scoped>\n",
       "    .dataframe tbody tr th:only-of-type {\n",
       "        vertical-align: middle;\n",
       "    }\n",
       "\n",
       "    .dataframe tbody tr th {\n",
       "        vertical-align: top;\n",
       "    }\n",
       "\n",
       "    .dataframe thead th {\n",
       "        text-align: right;\n",
       "    }\n",
       "</style>\n",
       "<table border=\"1\" class=\"dataframe\">\n",
       "  <thead>\n",
       "    <tr style=\"text-align: right;\">\n",
       "      <th></th>\n",
       "      <th>date_day</th>\n",
       "      <th>category</th>\n",
       "      <th>sub_category</th>\n",
       "      <th>total</th>\n",
       "    </tr>\n",
       "  </thead>\n",
       "  <tbody>\n",
       "    <tr>\n",
       "      <th>0</th>\n",
       "      <td>2024-10-03</td>\n",
       "      <td>정치</td>\n",
       "      <td>대통령실</td>\n",
       "      <td>이재용·정의선, 경제사절단으로 내주 싱가포르 방문 한상용 김아람 기자 = 국내 일부...</td>\n",
       "    </tr>\n",
       "    <tr>\n",
       "      <th>1</th>\n",
       "      <td>2024-10-03</td>\n",
       "      <td>정치</td>\n",
       "      <td>대통령실</td>\n",
       "      <td>윤석열, 6~11일 동남아 3개국 순방…이시바 일본총리와 회담 가능성 윤석열 대통령...</td>\n",
       "    </tr>\n",
       "    <tr>\n",
       "      <th>2</th>\n",
       "      <td>2024-10-03</td>\n",
       "      <td>정치</td>\n",
       "      <td>대통령실</td>\n",
       "      <td>윤석열대통령, 6~11일 동남아 순방... 이시바 일본총리 첫대면 가능성 윤석열 대...</td>\n",
       "    </tr>\n",
       "    <tr>\n",
       "      <th>3</th>\n",
       "      <td>2024-10-03</td>\n",
       "      <td>정치</td>\n",
       "      <td>대통령실</td>\n",
       "      <td>윤석열, 동남아 3개국 순방…아세안+한중일 정상회의 5박 6일 일정으로 필리핀·싱가...</td>\n",
       "    </tr>\n",
       "    <tr>\n",
       "      <th>4</th>\n",
       "      <td>2024-10-03</td>\n",
       "      <td>정치</td>\n",
       "      <td>대통령실</td>\n",
       "      <td>[데일리안 오늘뉴스 종합] 용산 \"윤석열 부부, 김대남과 친분 없어\", 한동훈 \"김...</td>\n",
       "    </tr>\n",
       "  </tbody>\n",
       "</table>\n",
       "</div>"
      ],
      "text/plain": [
       "     date_day category sub_category  \\\n",
       "0  2024-10-03       정치         대통령실   \n",
       "1  2024-10-03       정치         대통령실   \n",
       "2  2024-10-03       정치         대통령실   \n",
       "3  2024-10-03       정치         대통령실   \n",
       "4  2024-10-03       정치         대통령실   \n",
       "\n",
       "                                               total  \n",
       "0  이재용·정의선, 경제사절단으로 내주 싱가포르 방문 한상용 김아람 기자 = 국내 일부...  \n",
       "1  윤석열, 6~11일 동남아 3개국 순방…이시바 일본총리와 회담 가능성 윤석열 대통령...  \n",
       "2  윤석열대통령, 6~11일 동남아 순방... 이시바 일본총리 첫대면 가능성 윤석열 대...  \n",
       "3  윤석열, 동남아 3개국 순방…아세안+한중일 정상회의 5박 6일 일정으로 필리핀·싱가...  \n",
       "4  [데일리안 오늘뉴스 종합] 용산 \"윤석열 부부, 김대남과 친분 없어\", 한동훈 \"김...  "
      ]
     },
     "execution_count": 21,
     "metadata": {},
     "output_type": "execute_result"
    }
   ],
   "source": [
    "df.head()"
   ]
  },
  {
   "cell_type": "code",
   "execution_count": 22,
   "metadata": {},
   "outputs": [],
   "source": [
    "from kiwipiepy import Kiwi\n",
    "from collections import Counter\n",
    "\n",
    "# Kiwi 초기화\n",
    "kiwi = Kiwi()\n",
    "\n",
    "# date_day와 sub_category별로 그룹화하여 단어 빈도수 계산\n",
    "grouped = df.groupby(['date_day', 'sub_category'])"
   ]
  },
  {
   "cell_type": "code",
   "execution_count": 33,
   "metadata": {},
   "outputs": [
    {
     "name": "stderr",
     "output_type": "stream",
     "text": [
      "100%|██████████| 414/414 [05:35<00:00,  1.24it/s]\n"
     ]
    }
   ],
   "source": [
    "from tqdm import tqdm\n",
    "\n",
    "for (date, sub_category), group in tqdm(grouped):    \n",
    "    # 'total' 컬럼의 모든 텍스트를 하나로 결합\n",
    "    text = ' '.join(group['total'])\n",
    "    \n",
    "    # 텍스트를 형태소 분석하여 명사만 추출\n",
    "    tokens = [token.form for token in kiwi.tokenize(text) if token.tag.startswith('N')]\n",
    "    \n",
    "    # 단어 빈도수 계산\n",
    "    word_freq = Counter(tokens)\n",
    "    \n",
    "    # 빈도수가 높은 상위 100개 단어 저장\n",
    "    paresd = str(sub_category).replace('/', ' ')\n",
    "    with open(f'{paresd}_{date}.txt', mode='w+', encoding='utf-8-sig') as f:\n",
    "        # print(f\"Date: {date}, Sub-category: {sub_category}\")\n",
    "        for word, freq in word_freq.most_common(100):\n",
    "            f.write(f'{word} {freq}\\n')\n",
    "            "
   ]
  },
  {
   "cell_type": "code",
   "execution_count": 35,
   "metadata": {},
   "outputs": [
    {
     "name": "stderr",
     "output_type": "stream",
     "text": [
      "100%|██████████| 414/414 [05:47<00:00,  1.19it/s]\n"
     ]
    }
   ],
   "source": [
    "from tqdm import tqdm\n",
    "\n",
    "freq_df = pd.DataFrame()\n",
    "total_data = []\n",
    "\n",
    "for (date, sub_category), group in tqdm(grouped):    \n",
    "    # 'total' 컬럼의 모든 텍스트를 하나로 결합\n",
    "    text = ' '.join(group['total'])\n",
    "    \n",
    "    # 텍스트를 형태소 분석하여 명사만 추출\n",
    "    tokens = [token.form for token in kiwi.tokenize(text) if token.tag.startswith('N')]\n",
    "    \n",
    "    # 단어 빈도수 계산\n",
    "    word_freq = Counter(tokens)\n",
    "    \n",
    "    # 빈도수가 높은 상위 15개 단어 출력\n",
    "    paresd = str(sub_category).replace('/', ' ')\n",
    "    # print(f\"Date: {date}, Sub-category: {sub_category}\")\n",
    "    for word, freq in word_freq.most_common(15):\n",
    "        \n",
    "        tmp_dict = {\n",
    "            'date' : date,\n",
    "            'sub_category' : sub_category,\n",
    "            'word' : word,\n",
    "            'freq' : freq\n",
    "        }\n",
    "        total_data.append(tmp_dict)\n",
    "    "
   ]
  },
  {
   "cell_type": "code",
   "execution_count": 36,
   "metadata": {},
   "outputs": [],
   "source": [
    "freq_df = pd.DataFrame(total_data)"
   ]
  },
  {
   "cell_type": "code",
   "execution_count": 37,
   "metadata": {},
   "outputs": [
    {
     "data": {
      "text/html": [
       "<div>\n",
       "<style scoped>\n",
       "    .dataframe tbody tr th:only-of-type {\n",
       "        vertical-align: middle;\n",
       "    }\n",
       "\n",
       "    .dataframe tbody tr th {\n",
       "        vertical-align: top;\n",
       "    }\n",
       "\n",
       "    .dataframe thead th {\n",
       "        text-align: right;\n",
       "    }\n",
       "</style>\n",
       "<table border=\"1\" class=\"dataframe\">\n",
       "  <thead>\n",
       "    <tr style=\"text-align: right;\">\n",
       "      <th></th>\n",
       "      <th>date</th>\n",
       "      <th>sub_category</th>\n",
       "      <th>word</th>\n",
       "      <th>freq</th>\n",
       "    </tr>\n",
       "  </thead>\n",
       "  <tbody>\n",
       "    <tr>\n",
       "      <th>0</th>\n",
       "      <td>2024-09-27</td>\n",
       "      <td>도로/교통</td>\n",
       "      <td>일</td>\n",
       "      <td>18</td>\n",
       "    </tr>\n",
       "    <tr>\n",
       "      <th>1</th>\n",
       "      <td>2024-09-27</td>\n",
       "      <td>도로/교통</td>\n",
       "      <td>월</td>\n",
       "      <td>10</td>\n",
       "    </tr>\n",
       "    <tr>\n",
       "      <th>2</th>\n",
       "      <td>2024-09-27</td>\n",
       "      <td>도로/교통</td>\n",
       "      <td>운영</td>\n",
       "      <td>8</td>\n",
       "    </tr>\n",
       "    <tr>\n",
       "      <th>3</th>\n",
       "      <td>2024-09-27</td>\n",
       "      <td>도로/교통</td>\n",
       "      <td>수</td>\n",
       "      <td>7</td>\n",
       "    </tr>\n",
       "    <tr>\n",
       "      <th>4</th>\n",
       "      <td>2024-09-27</td>\n",
       "      <td>도로/교통</td>\n",
       "      <td>안전</td>\n",
       "      <td>7</td>\n",
       "    </tr>\n",
       "  </tbody>\n",
       "</table>\n",
       "</div>"
      ],
      "text/plain": [
       "         date sub_category word  freq\n",
       "0  2024-09-27        도로/교통    일    18\n",
       "1  2024-09-27        도로/교통    월    10\n",
       "2  2024-09-27        도로/교통   운영     8\n",
       "3  2024-09-27        도로/교통    수     7\n",
       "4  2024-09-27        도로/교통   안전     7"
      ]
     },
     "execution_count": 37,
     "metadata": {},
     "output_type": "execute_result"
    }
   ],
   "source": [
    "freq_df.head()"
   ]
  },
  {
   "cell_type": "code",
   "execution_count": 38,
   "metadata": {},
   "outputs": [],
   "source": [
    "freq_df.to_csv('freq_data.csv', encoding='utf-8-sig')"
   ]
  },
  {
   "cell_type": "code",
   "execution_count": null,
   "metadata": {},
   "outputs": [],
   "source": []
  }
 ],
 "metadata": {
  "kernelspec": {
   "display_name": "toy",
   "language": "python",
   "name": "python3"
  },
  "language_info": {
   "codemirror_mode": {
    "name": "ipython",
    "version": 3
   },
   "file_extension": ".py",
   "mimetype": "text/x-python",
   "name": "python",
   "nbconvert_exporter": "python",
   "pygments_lexer": "ipython3",
   "version": "3.9.18"
  }
 },
 "nbformat": 4,
 "nbformat_minor": 2
}
