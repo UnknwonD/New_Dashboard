{
 "cells": [
  {
   "cell_type": "code",
   "execution_count": 15,
   "metadata": {},
   "outputs": [],
   "source": [
    "import pandas as pd\n",
    "\n",
    "df = pd.read_csv('daylist.csv', encoding='utf-8-sig')"
   ]
  },
  {
   "cell_type": "code",
   "execution_count": 16,
   "metadata": {},
   "outputs": [
    {
     "data": {
      "text/html": [
       "<div>\n",
       "<style scoped>\n",
       "    .dataframe tbody tr th:only-of-type {\n",
       "        vertical-align: middle;\n",
       "    }\n",
       "\n",
       "    .dataframe tbody tr th {\n",
       "        vertical-align: top;\n",
       "    }\n",
       "\n",
       "    .dataframe thead th {\n",
       "        text-align: right;\n",
       "    }\n",
       "</style>\n",
       "<table border=\"1\" class=\"dataframe\">\n",
       "  <thead>\n",
       "    <tr style=\"text-align: right;\">\n",
       "      <th></th>\n",
       "      <th>date_day</th>\n",
       "      <th>category</th>\n",
       "      <th>sub_category</th>\n",
       "      <th>total</th>\n",
       "    </tr>\n",
       "  </thead>\n",
       "  <tbody>\n",
       "    <tr>\n",
       "      <th>0</th>\n",
       "      <td>2024-10-03</td>\n",
       "      <td>정치</td>\n",
       "      <td>대통령실</td>\n",
       "      <td>이재용·정의선, 경제사절단으로 내주 싱가포르 방문 한상용 김아람 기자 = 국내 일부...</td>\n",
       "    </tr>\n",
       "    <tr>\n",
       "      <th>1</th>\n",
       "      <td>2024-10-03</td>\n",
       "      <td>정치</td>\n",
       "      <td>대통령실</td>\n",
       "      <td>윤석열, 6~11일 동남아 3개국 순방…이시바 일본총리와 회담 가능성 윤석열 대통령...</td>\n",
       "    </tr>\n",
       "    <tr>\n",
       "      <th>2</th>\n",
       "      <td>2024-10-03</td>\n",
       "      <td>정치</td>\n",
       "      <td>대통령실</td>\n",
       "      <td>윤석열대통령, 6~11일 동남아 순방... 이시바 일본총리 첫대면 가능성 윤석열 대...</td>\n",
       "    </tr>\n",
       "    <tr>\n",
       "      <th>3</th>\n",
       "      <td>2024-10-03</td>\n",
       "      <td>정치</td>\n",
       "      <td>대통령실</td>\n",
       "      <td>윤석열, 동남아 3개국 순방…아세안+한중일 정상회의 5박 6일 일정으로 필리핀·싱가...</td>\n",
       "    </tr>\n",
       "    <tr>\n",
       "      <th>4</th>\n",
       "      <td>2024-10-03</td>\n",
       "      <td>정치</td>\n",
       "      <td>대통령실</td>\n",
       "      <td>[데일리안 오늘뉴스 종합] 용산 \"윤석열 부부, 김대남과 친분 없어\", 한동훈 \"김...</td>\n",
       "    </tr>\n",
       "  </tbody>\n",
       "</table>\n",
       "</div>"
      ],
      "text/plain": [
       "     date_day category sub_category  \\\n",
       "0  2024-10-03       정치         대통령실   \n",
       "1  2024-10-03       정치         대통령실   \n",
       "2  2024-10-03       정치         대통령실   \n",
       "3  2024-10-03       정치         대통령실   \n",
       "4  2024-10-03       정치         대통령실   \n",
       "\n",
       "                                               total  \n",
       "0  이재용·정의선, 경제사절단으로 내주 싱가포르 방문 한상용 김아람 기자 = 국내 일부...  \n",
       "1  윤석열, 6~11일 동남아 3개국 순방…이시바 일본총리와 회담 가능성 윤석열 대통령...  \n",
       "2  윤석열대통령, 6~11일 동남아 순방... 이시바 일본총리 첫대면 가능성 윤석열 대...  \n",
       "3  윤석열, 동남아 3개국 순방…아세안+한중일 정상회의 5박 6일 일정으로 필리핀·싱가...  \n",
       "4  [데일리안 오늘뉴스 종합] 용산 \"윤석열 부부, 김대남과 친분 없어\", 한동훈 \"김...  "
      ]
     },
     "execution_count": 16,
     "metadata": {},
     "output_type": "execute_result"
    }
   ],
   "source": [
    "df.head()"
   ]
  },
  {
   "cell_type": "code",
   "execution_count": 17,
   "metadata": {},
   "outputs": [
    {
     "name": "stdout",
     "output_type": "stream",
     "text": [
      "Date: 2024-10-03, Sub-category: 대통령실\n",
      "윤석열: 6\n",
      "김: 3\n",
      "일: 3\n",
      "동남아: 3\n",
      "순방: 3\n",
      "개국: 2\n",
      "이시바: 2\n",
      "일본: 2\n",
      "총리: 2\n",
      "가능: 2\n",
      "\n",
      "\n"
     ]
    }
   ],
   "source": [
    "import pandas as pd\n",
    "from kiwipiepy import Kiwi\n",
    "from collections import Counter\n",
    "\n",
    "# DataFrame 생성\n",
    "df = pd.DataFrame()\n",
    "\n",
    "# Kiwi 초기화\n",
    "kiwi = Kiwi()\n",
    "\n",
    "# date_day와 sub_category별로 그룹화하여 단어 빈도수 계산\n",
    "grouped = df.groupby(['date_day', 'sub_category'])\n",
    "\n",
    "for (date, sub_category), group in grouped:\n",
    "    # 'total' 컬럼의 모든 텍스트를 하나로 결합\n",
    "    text = ' '.join(group['total'])\n",
    "    \n",
    "    # 텍스트를 형태소 분석하여 명사만 추출\n",
    "    tokens = [token.form for token in kiwi.tokenize(text) if token.tag.startswith('N')]\n",
    "    \n",
    "    # 단어 빈도수 계산\n",
    "    word_freq = Counter(tokens)\n",
    "    \n",
    "    # 빈도수가 높은 상위 10개 단어 출력\n",
    "    print(f\"Date: {date}, Sub-category: {sub_category}\")\n",
    "    for word, freq in word_freq.most_common(10):\n",
    "        print(f\"{word}: {freq}\")\n",
    "    print(\"\\n\")"
   ]
  },
  {
   "cell_type": "code",
   "execution_count": null,
   "metadata": {},
   "outputs": [],
   "source": []
  }
 ],
 "metadata": {
  "kernelspec": {
   "display_name": "toy",
   "language": "python",
   "name": "python3"
  },
  "language_info": {
   "codemirror_mode": {
    "name": "ipython",
    "version": 3
   },
   "file_extension": ".py",
   "mimetype": "text/x-python",
   "name": "python",
   "nbconvert_exporter": "python",
   "pygments_lexer": "ipython3",
   "version": "3.9.18"
  }
 },
 "nbformat": 4,
 "nbformat_minor": 2
}
