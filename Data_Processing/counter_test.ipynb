{
 "cells": [
  {
   "cell_type": "code",
   "execution_count": 4,
   "metadata": {},
   "outputs": [
    {
     "data": {
      "text/html": [
       "<div>\n",
       "<style scoped>\n",
       "    .dataframe tbody tr th:only-of-type {\n",
       "        vertical-align: middle;\n",
       "    }\n",
       "\n",
       "    .dataframe tbody tr th {\n",
       "        vertical-align: top;\n",
       "    }\n",
       "\n",
       "    .dataframe thead th {\n",
       "        text-align: right;\n",
       "    }\n",
       "</style>\n",
       "<table border=\"1\" class=\"dataframe\">\n",
       "  <thead>\n",
       "    <tr style=\"text-align: right;\">\n",
       "      <th></th>\n",
       "      <th>category</th>\n",
       "      <th>sub_category</th>\n",
       "      <th>title</th>\n",
       "      <th>content</th>\n",
       "      <th>publisher</th>\n",
       "      <th>date</th>\n",
       "    </tr>\n",
       "  </thead>\n",
       "  <tbody>\n",
       "    <tr>\n",
       "      <th>0</th>\n",
       "      <td>정치</td>\n",
       "      <td>대통령실</td>\n",
       "      <td>이재용·정의선, 경제사절단으로 내주 싱가포르 방문</td>\n",
       "      <td>한상용 김아람 기자 = 국내 일부 재계 총수들이 다음 주 윤석열 대통령의 싱가포르 ...</td>\n",
       "      <td>연합뉴스</td>\n",
       "      <td>2024-10-03 18:54</td>\n",
       "    </tr>\n",
       "    <tr>\n",
       "      <th>1</th>\n",
       "      <td>정치</td>\n",
       "      <td>대통령실</td>\n",
       "      <td>尹, 6~11일 동남아 3개국 순방…이시바 日총리와 회담 가능성</td>\n",
       "      <td>윤석열 대통령은 오는 6일부터 5박6일 일정으로 필리핀 싱가포르 라오스를 차례로 방...</td>\n",
       "      <td>한국경제</td>\n",
       "      <td>2024-10-03 18:21</td>\n",
       "    </tr>\n",
       "    <tr>\n",
       "      <th>2</th>\n",
       "      <td>정치</td>\n",
       "      <td>대통령실</td>\n",
       "      <td>尹대통령, 6~11일 동남아 순방... 이시바 日총리 첫대면 가능성</td>\n",
       "      <td>윤석열 대통령은 6~11일 필리핀과 싱가포르를 국빈방문하고, 아세안(ASEAN·동남...</td>\n",
       "      <td>파이낸셜뉴스</td>\n",
       "      <td>2024-10-03 18:21</td>\n",
       "    </tr>\n",
       "    <tr>\n",
       "      <th>3</th>\n",
       "      <td>정치</td>\n",
       "      <td>대통령실</td>\n",
       "      <td>尹, 동남아 3개국 순방…아세안+한중일 정상회의</td>\n",
       "      <td>5박 6일 일정으로 필리핀·싱가포르·라오스 방문 한-아세안 포괄적 전략동반자 관계 ...</td>\n",
       "      <td>더팩트</td>\n",
       "      <td>2024-10-03 18:21</td>\n",
       "    </tr>\n",
       "    <tr>\n",
       "      <th>4</th>\n",
       "      <td>정치</td>\n",
       "      <td>대통령실</td>\n",
       "      <td>[데일리안 오늘뉴스 종합] 용산 \"尹 부부, 김대남과 친분 없어\", 한동훈 \"김여사...</td>\n",
       "      <td>▲용산, '한동훈 공격 사주' 일축…\"尹 부부, 김대남과 친분 없어\" 김대남 전 대...</td>\n",
       "      <td>데일리안</td>\n",
       "      <td>2024-10-03 18:21</td>\n",
       "    </tr>\n",
       "  </tbody>\n",
       "</table>\n",
       "</div>"
      ],
      "text/plain": [
       "  category sub_category                                              title  \\\n",
       "0       정치         대통령실                        이재용·정의선, 경제사절단으로 내주 싱가포르 방문   \n",
       "1       정치         대통령실                尹, 6~11일 동남아 3개국 순방…이시바 日총리와 회담 가능성   \n",
       "2       정치         대통령실              尹대통령, 6~11일 동남아 순방... 이시바 日총리 첫대면 가능성   \n",
       "3       정치         대통령실                         尹, 동남아 3개국 순방…아세안+한중일 정상회의   \n",
       "4       정치         대통령실  [데일리안 오늘뉴스 종합] 용산 \"尹 부부, 김대남과 친분 없어\", 한동훈 \"김여사...   \n",
       "\n",
       "                                             content publisher  \\\n",
       "0  한상용 김아람 기자 = 국내 일부 재계 총수들이 다음 주 윤석열 대통령의 싱가포르 ...      연합뉴스   \n",
       "1  윤석열 대통령은 오는 6일부터 5박6일 일정으로 필리핀 싱가포르 라오스를 차례로 방...      한국경제   \n",
       "2  윤석열 대통령은 6~11일 필리핀과 싱가포르를 국빈방문하고, 아세안(ASEAN·동남...    파이낸셜뉴스   \n",
       "3  5박 6일 일정으로 필리핀·싱가포르·라오스 방문 한-아세안 포괄적 전략동반자 관계 ...       더팩트   \n",
       "4  ▲용산, '한동훈 공격 사주' 일축…\"尹 부부, 김대남과 친분 없어\" 김대남 전 대...      데일리안   \n",
       "\n",
       "               date  \n",
       "0  2024-10-03 18:54  \n",
       "1  2024-10-03 18:21  \n",
       "2  2024-10-03 18:21  \n",
       "3  2024-10-03 18:21  \n",
       "4  2024-10-03 18:21  "
      ]
     },
     "execution_count": 4,
     "metadata": {},
     "output_type": "execute_result"
    }
   ],
   "source": [
    "import pandas as pd\n",
    "\n",
    "df = pd.read_csv('../news_data.csv', encoding='utf-8-sig')\n",
    "df.head()"
   ]
  },
  {
   "cell_type": "code",
   "execution_count": null,
   "metadata": {},
   "outputs": [],
   "source": [
    "df['total'] = [row for i, row in df.iterrows()]"
   ]
  }
 ],
 "metadata": {
  "kernelspec": {
   "display_name": "toy",
   "language": "python",
   "name": "python3"
  },
  "language_info": {
   "codemirror_mode": {
    "name": "ipython",
    "version": 3
   },
   "file_extension": ".py",
   "mimetype": "text/x-python",
   "name": "python",
   "nbconvert_exporter": "python",
   "pygments_lexer": "ipython3",
   "version": "3.9.18"
  }
 },
 "nbformat": 4,
 "nbformat_minor": 2
}
